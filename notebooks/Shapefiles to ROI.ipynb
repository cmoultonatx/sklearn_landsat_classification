{
 "cells": [
  {
   "cell_type": "code",
   "execution_count": 1,
   "metadata": {},
   "outputs": [],
   "source": [
    "import geopandas as gpd\n",
    "import gdal, ogr, osr\n",
    "import numpy as np\n",
    "import rasterio\n",
    "from rasterio.mask import mask\n",
    "import matplotlib.pyplot as plt\n",
    "from shapely.geometry import MultiPolygon, Point, Polygon\n",
    "%matplotlib inline"
   ]
  },
  {
   "cell_type": "code",
   "execution_count": 2,
   "metadata": {},
   "outputs": [],
   "source": [
    "in_water = r\"../../data/shapefiles/Class Shapefile Attempts/water.shp\"\n",
    "water_gdf = gpd.read_file(in_water)\n",
    "in_tif = r\"../../data/Austin_Landsat_Clip.tif\""
   ]
  },
  {
   "cell_type": "code",
   "execution_count": 3,
   "metadata": {},
   "outputs": [],
   "source": [
    "# with rasterio.open(in_tif) as src:\n",
    "#     prj = src.crs.to_wkt()\n",
    "#     water_gdf_reproj = water_gdf.to_crs(prj)\n",
    "#     shapes = water_gdf_reproj['geometry'].values\n",
    "#     out_image, out_transform = rasterio.mask.mask(src, shapes, crop=True)\n",
    "#     out_meta = src.meta\n",
    "#     out_shape = src.read(1).shape"
   ]
  },
  {
   "cell_type": "code",
   "execution_count": 4,
   "metadata": {},
   "outputs": [],
   "source": [
    "with rasterio.open(in_tif) as src:\n",
    "    prj = src.crs.to_wkt()\n",
    "    water_gdf_reproj = water_gdf.to_crs(prj)\n",
    "#     shapes = water_gdf_reproj['geometry'].values\n",
    "    \n",
    "    x1, y1, x2, y2 = water_gdf_reproj.total_bounds\n",
    "    \n",
    "    p1 = Point(x1, y1)\n",
    "    p2 = Point(x2, y1)\n",
    "    p3 = (x2, y2)\n",
    "    p4 = (x1, y2)\n",
    "    poly = Polygon([p1, p2, p3, p4])\n",
    "    \n",
    "    \n",
    "    shapes = [poly]\n",
    "    \n",
    "    out_image, out_transform = rasterio.mask.mask(src, shapes, crop=True)\n",
    "    out_meta = src.meta"
   ]
  },
  {
   "cell_type": "code",
   "execution_count": 5,
   "metadata": {},
   "outputs": [],
   "source": [
    "out_meta.update({\"driver\":\"GTiff\",\n",
    "                \"height\": out_image.shape[1],\"width\":out_image.shape[2],\n",
    "                \"transform\": out_transform})\n",
    "\n",
    "with rasterio.open(r\"../../data/Austin_Water_Bound_Clip.tif\", \"w\", **out_meta) as dest:\n",
    "    dest.write(out_image)"
   ]
  },
  {
   "cell_type": "code",
   "execution_count": null,
   "metadata": {},
   "outputs": [],
   "source": []
  }
 ],
 "metadata": {
  "kernelspec": {
   "display_name": "Python 3",
   "language": "python",
   "name": "python3"
  },
  "language_info": {
   "codemirror_mode": {
    "name": "ipython",
    "version": 3
   },
   "file_extension": ".py",
   "mimetype": "text/x-python",
   "name": "python",
   "nbconvert_exporter": "python",
   "pygments_lexer": "ipython3",
   "version": "3.8.2"
  }
 },
 "nbformat": 4,
 "nbformat_minor": 4
}
