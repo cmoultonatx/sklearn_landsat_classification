{
 "cells": [
  {
   "cell_type": "markdown",
   "metadata": {},
   "source": [
    "This notebook is an optional extension to the first step in the workflow. \n",
    "In this case, I downloaded the US counties shapefile from the US Census Bureau.\n",
    "\n",
    "The only inputs here are: \n",
    "* In path to your counties shapefile\n",
    "* In path to your merged geotiff, which is the output of the previous script\n",
    "* In county GEOID to filter the large dataframe by\n",
    "\n",
    "I've resorted to using geopandas and rasterio here. They seem to be the lowest level libraries as possible without needing to circumvent much of vanilla GDAL's lengthy solutions."
   ]
  },
  {
   "cell_type": "code",
   "execution_count": 1,
   "metadata": {},
   "outputs": [],
   "source": [
    "import geopandas as gpd\n",
    "import rasterio\n",
    "import rasterio.mask"
   ]
  },
  {
   "cell_type": "markdown",
   "metadata": {},
   "source": [
    "Inputs of the county shapefile, geotiff path, and geoid"
   ]
  },
  {
   "cell_type": "code",
   "execution_count": 2,
   "metadata": {},
   "outputs": [],
   "source": [
    "in_shp = r\"C:\\Users\\moult\\Documents\\geospatial\\data\\shapefiles\\tl_2019_us_county.shp\"\n",
    "in_tif = r\"C:\\Users\\moult\\Documents\\geospatial\\data\\Austin_Landsat.tif\"\n",
    "in_county_geoid = '48453'\n",
    "counties_gdf = gpd.read_file(in_shp)\n",
    "counties_gdf = counties_gdf[counties_gdf['GEOID'] == in_county_geoid]"
   ]
  },
  {
   "cell_type": "markdown",
   "metadata": {},
   "source": [
    "This cell opens up the original geotiff, reprojects the dataframe to the appropriate \n",
    "UTM zone, and performs the mask in just a couple lines:"
   ]
  },
  {
   "cell_type": "code",
   "execution_count": 3,
   "metadata": {},
   "outputs": [],
   "source": [
    "with rasterio.open(in_tif) as src:\n",
    "    prj = src.crs.to_wkt()\n",
    "    counties_gdf_reproj = counties_gdf.to_crs(prj)\n",
    "    shapes = [counties_gdf_reproj['geometry'].values[0]]\n",
    "    \n",
    "    out_image, out_transform = rasterio.mask.mask(src, shapes, crop=True)\n",
    "    out_meta = src.meta"
   ]
  },
  {
   "cell_type": "markdown",
   "metadata": {},
   "source": [
    "This final cell updates the output geotransformation with new dimensions\n",
    "and then saves the clipped raster"
   ]
  },
  {
   "cell_type": "code",
   "execution_count": 4,
   "metadata": {},
   "outputs": [],
   "source": [
    "out_meta.update({\"driver\":\"GTiff\",\n",
    "                \"height\": out_image.shape[1],\"width\":out_image.shape[2],\n",
    "                \"transform\": out_transform})\n",
    "\n",
    "with rasterio.open(r\"../../data/Austin_Landsat_Clip.tif\", \"w\", **out_meta) as dest:\n",
    "    dest.write(out_image)"
   ]
  },
  {
   "cell_type": "code",
   "execution_count": null,
   "metadata": {},
   "outputs": [],
   "source": []
  }
 ],
 "metadata": {
  "kernelspec": {
   "display_name": "Python 3",
   "language": "python",
   "name": "python3"
  },
  "language_info": {
   "codemirror_mode": {
    "name": "ipython",
    "version": 3
   },
   "file_extension": ".py",
   "mimetype": "text/x-python",
   "name": "python",
   "nbconvert_exporter": "python",
   "pygments_lexer": "ipython3",
   "version": "3.8.2"
  }
 },
 "nbformat": 4,
 "nbformat_minor": 4
}
