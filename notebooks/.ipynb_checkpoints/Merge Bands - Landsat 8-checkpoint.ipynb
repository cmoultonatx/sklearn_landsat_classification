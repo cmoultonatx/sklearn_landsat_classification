{
 "cells": [
  {
   "cell_type": "code",
   "execution_count": 1,
   "metadata": {},
   "outputs": [],
   "source": [
    "import numpy as np\n",
    "from osgeo import gdal, ogr, osr\n",
    "import matplotlib.pyplot as plt\n",
    "import os "
   ]
  },
  {
   "cell_type": "code",
   "execution_count": 2,
   "metadata": {},
   "outputs": [],
   "source": [
    "in_tif_dir = r'../../data'\n",
    "tif_driver = gdal.GetDriverByName('GTiff')\n",
    "out_tif_path = os.path.join(in_tif_dir, 'Austin_Landsat.tif')"
   ]
  },
  {
   "cell_type": "code",
   "execution_count": 3,
   "metadata": {},
   "outputs": [],
   "source": [
    "tif_dir_list = []\n",
    "for dirs, subdirs, files in os.walk(in_tif_dir):\n",
    "    for file in files:\n",
    "        fname = file.split('.')[0]\n",
    "        if fname.endswith('B4'):\n",
    "            path = os.path.join(dirs, file)\n",
    "            ds = gdal.Open(path)\n",
    "            arr = ds.GetRasterBand(1).ReadAsArray()       \n",
    "            tif_dir_list.append(arr)\n",
    "        elif fname.endswith('B3'):\n",
    "            path = os.path.join(dirs, file)\n",
    "            ds = gdal.Open(path)\n",
    "            arr = ds.GetRasterBand(1).ReadAsArray()  \n",
    "            tif_dir_list.append(arr)\n",
    "        elif fname.endswith('B2'):\n",
    "            path = os.path.join(dirs, file)\n",
    "            ds = gdal.Open(path)\n",
    "            arr = ds.GetRasterBand(1).ReadAsArray()\n",
    "            tif_dir_list.append(arr)\n",
    "#         elif fname.endswith('B5'):\n",
    "#             path = os.path.join(dirs, file)\n",
    "#             ds = gdal.Open(path)\n",
    "#             arr = ds.GetRasterBand(1).ReadAsArray()\n",
    "#             tif_dir_list.append(arr)"
   ]
  },
  {
   "cell_type": "code",
   "execution_count": 5,
   "metadata": {},
   "outputs": [],
   "source": [
    "in_ds = gdal.Open(path)\n",
    "in_gt = in_ds.GetGeoTransform()\n",
    "prj = in_ds.GetProjection()\n",
    "srs = osr.SpatialReference(wkt=prj)"
   ]
  },
  {
   "cell_type": "code",
   "execution_count": 8,
   "metadata": {},
   "outputs": [],
   "source": [
    "out_tif = tif_driver.Create(out_tif_path, \n",
    "                            tif_dir_list[0].shape[1],\n",
    "                            tif_dir_list[0].shape[0],\n",
    "                            4,\n",
    "                            gdal.GDT_Float64)\n",
    "out_tif.SetProjection(srs.ExportToWkt())\n",
    "out_tif.SetGeoTransform(in_gt);"
   ]
  },
  {
   "cell_type": "code",
   "execution_count": 9,
   "metadata": {},
   "outputs": [],
   "source": [
    "i = 1\n",
    "for arr in tif_dir_list:    \n",
    "    out_band = out_tif.GetRasterBand(i)\n",
    "    out_band.WriteArray(arr)\n",
    "    i+=1\n",
    "out_tif.FlushCache()"
   ]
  }
 ],
 "metadata": {
  "kernelspec": {
   "display_name": "Python 3",
   "language": "python",
   "name": "python3"
  },
  "language_info": {
   "codemirror_mode": {
    "name": "ipython",
    "version": 3
   },
   "file_extension": ".py",
   "mimetype": "text/x-python",
   "name": "python",
   "nbconvert_exporter": "python",
   "pygments_lexer": "ipython3",
   "version": "3.8.2"
  }
 },
 "nbformat": 4,
 "nbformat_minor": 4
}
