{
 "cells": [
  {
   "cell_type": "markdown",
   "metadata": {},
   "source": [
    "This notebook will take an in folder of raw unzipped Landsat geotiff images from the USGS and merge them into \n",
    "a single multiband image. \n",
    "\n",
    "Gonna add a .yml file for imports, but if you're using Conda these shouldn't be much of a \n",
    "problem. conda install numpy, then matplotlib, then gdal and you're set."
   ]
  },
  {
   "cell_type": "code",
   "execution_count": 1,
   "metadata": {},
   "outputs": [],
   "source": [
    "import numpy as np\n",
    "from osgeo import gdal, ogr, osr\n",
    "import matplotlib.pyplot as plt\n",
    "import os"
   ]
  },
  {
   "cell_type": "markdown",
   "metadata": {},
   "source": [
    "I suggest putting your raw landsat unzipped data in a folder titled 'data' one directory above\n",
    "the 'scripts' directory, as the os.walk function in the next cell will look through a certain folder\n",
    "for landsat images ending with the specified band combos. See this link for more info:\n",
    "https://www.usgs.gov/faqs/what-are-band-designations-landsat-satellites?qt-news_science_products=0\n",
    "And specify an out_tif_name for the out file name\n"
   ]
  },
  {
   "cell_type": "code",
   "execution_count": 2,
   "metadata": {},
   "outputs": [],
   "source": [
    "in_tif_dir = r'../../data'\n",
    "out_tif_name = 'Austin_Landsat' + '.tif'\n",
    "tif_driver = gdal.GetDriverByName('GTiff')\n",
    "out_tif_path = os.path.join(in_tif_dir, out_tif_name)"
   ]
  },
  {
   "cell_type": "markdown",
   "metadata": {},
   "source": [
    "Obviously I can streamline this portion, I love my os.walks instead of glob for some reason :D\n",
    "I read in Red, then Blue, then Green for a typical RGB band combination\n",
    "Then open via GDAL and read each as an array"
   ]
  },
  {
   "cell_type": "code",
   "execution_count": 3,
   "metadata": {},
   "outputs": [],
   "source": [
    "tif_dir_list = []\n",
    "for dirs, subdirs, files in os.walk(in_tif_dir):\n",
    "    for file in files:\n",
    "        fname = file.split('.')[0]\n",
    "        if fname.endswith('B4'):\n",
    "            #Red\n",
    "            path = os.path.join(dirs, file)\n",
    "            ds = gdal.Open(path)\n",
    "            arr = ds.GetRasterBand(1).ReadAsArray()       \n",
    "            tif_dir_list.append(arr)\n",
    "        elif fname.endswith('B3'):\n",
    "            #Green\n",
    "            path = os.path.join(dirs, file)\n",
    "            ds = gdal.Open(path)\n",
    "            arr = ds.GetRasterBand(1).ReadAsArray()  \n",
    "            tif_dir_list.append(arr)\n",
    "        elif fname.endswith('B2'):\n",
    "            #Blue\n",
    "            path = os.path.join(dirs, file)\n",
    "            ds = gdal.Open(path)\n",
    "            arr = ds.GetRasterBand(1).ReadAsArray()\n",
    "            tif_dir_list.append(arr)\n",
    "        elif fname.endswith('B5'):\n",
    "            #Near IR\n",
    "            path = os.path.join(dirs, file)\n",
    "            ds = gdal.Open(path)\n",
    "            arr = ds.GetRasterBand(1).ReadAsArray()\n",
    "            tif_dir_list.append(arr)"
   ]
  },
  {
   "cell_type": "markdown",
   "metadata": {},
   "source": [
    "Sets up the GDAL magic\n",
    "First opens the geotiff, then stores the geotransform and projection info"
   ]
  },
  {
   "cell_type": "code",
   "execution_count": 4,
   "metadata": {},
   "outputs": [],
   "source": [
    "in_ds = gdal.Open(path)\n",
    "in_gt = in_ds.GetGeoTransform()\n",
    "prj = in_ds.GetProjection()\n",
    "srs = osr.SpatialReference(wkt=prj)"
   ]
  },
  {
   "cell_type": "markdown",
   "metadata": {},
   "source": [
    "Creates an out tif with the info you provided in cell 2 as well as \n",
    "predetermined variables projection and geotransform"
   ]
  },
  {
   "cell_type": "code",
   "execution_count": 5,
   "metadata": {},
   "outputs": [],
   "source": [
    "out_tif = tif_driver.Create(out_tif_path, \n",
    "                            tif_dir_list[0].shape[1],\n",
    "                            tif_dir_list[0].shape[0],\n",
    "                            len(tif_dir_list),\n",
    "                            gdal.GDT_Float64)\n",
    "out_tif.SetProjection(srs.ExportToWkt())\n",
    "out_tif.SetGeoTransform(in_gt);"
   ]
  },
  {
   "cell_type": "markdown",
   "metadata": {},
   "source": [
    "GDAL suxx and starts indexing at 1, instead of good ole 0\n",
    "so we loop through each stored array in the list and write as a separate color band"
   ]
  },
  {
   "cell_type": "code",
   "execution_count": 6,
   "metadata": {},
   "outputs": [],
   "source": [
    "i = 1\n",
    "for arr in tif_dir_list:    \n",
    "    out_band = out_tif.GetRasterBand(i)\n",
    "    out_band.WriteArray(arr)\n",
    "    i+=1\n",
    "out_tif.FlushCache()\n",
    "del out_tif"
   ]
  },
  {
   "cell_type": "code",
   "execution_count": null,
   "metadata": {},
   "outputs": [],
   "source": []
  }
 ],
 "metadata": {
  "kernelspec": {
   "display_name": "Python 3",
   "language": "python",
   "name": "python3"
  },
  "language_info": {
   "codemirror_mode": {
    "name": "ipython",
    "version": 3
   },
   "file_extension": ".py",
   "mimetype": "text/x-python",
   "name": "python",
   "nbconvert_exporter": "python",
   "pygments_lexer": "ipython3",
   "version": "3.8.2"
  }
 },
 "nbformat": 4,
 "nbformat_minor": 4
}
