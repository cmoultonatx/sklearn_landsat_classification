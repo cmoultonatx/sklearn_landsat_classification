{
 "cells": [
  {
   "cell_type": "markdown",
   "metadata": {},
   "source": [
    "# Merging Landsat Bands into a Single Multiband Image\n",
    "\n",
    "This notebook takes in a folder of freshly unzipped Landsat images in GeoTIFF format and merge them into a \n",
    "single multiband image. This completes the task by first identifying all the bands you want to combine, then\n",
    "reads in each separate band as a numpy array. After each separate band is read and stored into a list, the \n",
    "geotransform and projection information is copied over via GDAL from the original input image for the output.\n",
    "Lastly, the band-specific arrays are written to the output dataset as separate bands. \n",
    "\n",
    "The only inputs you need in this notebook are to change the **in_tif_dir** variable and an output file name with \n",
    "a *.tif* extension. You will be prompted to select which bands you want to stack. I will eventually add support \n",
    "for previous Landsat satellites as the band reference information differs from platform to platform. "
   ]
  },
  {
   "cell_type": "code",
   "execution_count": 1,
   "metadata": {},
   "outputs": [],
   "source": [
    "import numpy as np\n",
    "from osgeo import gdal, ogr, osr\n",
    "import matplotlib.pyplot as plt\n",
    "import os\n",
    "\n",
    "from IPython.display import Javascript, display\n",
    "from ipywidgets import widgets\n",
    "\n",
    "%matplotlib inline"
   ]
  },
  {
   "cell_type": "markdown",
   "metadata": {},
   "source": [
    "I suggest putting your raw landsat unzipped data in a folder titled 'data' one directory above\n",
    "the 'scripts' directory, as the os.walk function in the next cell will look through a certain folder\n",
    "for landsat images ending with the specified band combos. See this link for more info:\n",
    "https://www.usgs.gov/faqs/what-are-band-designations-landsat-satellites?qt-news_science_products=0\n"
   ]
  },
  {
   "cell_type": "code",
   "execution_count": 2,
   "metadata": {},
   "outputs": [],
   "source": [
    "in_tif_dir = r'../../data'\n",
    "out_tif_name = 'Austin_Landsat.tif'\n",
    "tif_driver = gdal.GetDriverByName('GTiff')\n",
    "out_tif_path = os.path.join(in_tif_dir, \n",
    "                            out_tif_name)"
   ]
  },
  {
   "cell_type": "code",
   "execution_count": 3,
   "metadata": {},
   "outputs": [],
   "source": [
    "def run_next_cell(ev):\n",
    "    display(Javascript('IPython.notebook.execute_cell_range(IPython.notebook.get_selected_index()+1, IPython.notebook.get_selected_index()+2)'))"
   ]
  },
  {
   "cell_type": "markdown",
   "metadata": {},
   "source": [
    "Preset dictionary with the band designations. From the selector, choose which bands you want to include.\n",
    "\n",
    "Note: This is only for Landsat 8 band configurations"
   ]
  },
  {
   "cell_type": "code",
   "execution_count": 4,
   "metadata": {},
   "outputs": [
    {
     "data": {
      "application/vnd.jupyter.widget-view+json": {
       "model_id": "31ab83ac55394d0e8adf917db1d001c3",
       "version_major": 2,
       "version_minor": 0
      },
      "text/plain": [
       "SelectMultiple(options=('Coastal Aerosol', 'Blue', 'Green', 'Red', 'NIR', 'SWIR 1', 'SWIR 2', 'Panchromatic', …"
      ]
     },
     "metadata": {},
     "output_type": "display_data"
    },
    {
     "data": {
      "application/vnd.jupyter.widget-view+json": {
       "model_id": "4ddfd83056fa46cab2847fcd8a8651a6",
       "version_major": 2,
       "version_minor": 0
      },
      "text/plain": [
       "Button(description='Select these bands', style=ButtonStyle())"
      ]
     },
     "metadata": {},
     "output_type": "display_data"
    },
    {
     "data": {
      "application/javascript": [
       "IPython.notebook.execute_cell_range(IPython.notebook.get_selected_index()+1, IPython.notebook.get_selected_index()+2)"
      ],
      "text/plain": [
       "<IPython.core.display.Javascript object>"
      ]
     },
     "metadata": {},
     "output_type": "display_data"
    }
   ],
   "source": [
    "band_reference_dict = {'Coastal Aerosol': 1, \n",
    "                       'Blue': 2, \n",
    "                       'Green': 3, \n",
    "                       'Red': 4, \n",
    "                       'NIR': 5, \n",
    "                       'SWIR 1': 6, \n",
    "                       'SWIR 2': 7, \n",
    "                       'Panchromatic': 8,\n",
    "                       'Cirrus': 9, \n",
    "                       'TIRS 1': 10, \n",
    "                       'TIRS 2': 11}\n",
    "\n",
    "selector = widgets.SelectMultiple(options=band_reference_dict.keys())\n",
    "button = widgets.Button(description='Select these bands')\n",
    "button.on_click(run_next_cell)\n",
    "display(selector)\n",
    "display(button)"
   ]
  },
  {
   "cell_type": "code",
   "execution_count": 5,
   "metadata": {},
   "outputs": [
    {
     "name": "stdout",
     "output_type": "stream",
     "text": [
      "You have chosen to merge the following bands: ('Blue', 'Green', 'Red', 'NIR')\n",
      " Please run the next cell\n"
     ]
    }
   ],
   "source": [
    "print(\"You have chosen to merge the following bands: {}\\n Please run the next cell\".format(selector.value))\n",
    "band_reference_list = [band_reference_dict[x] for x in selector.value]"
   ]
  },
  {
   "cell_type": "markdown",
   "metadata": {},
   "source": [
    "This next cell finds all the appropriate GeoTIFF images in your in directory, opens up in GDAL, reads them as \n",
    "numpy arrays, and stores in a list."
   ]
  },
  {
   "cell_type": "code",
   "execution_count": 7,
   "metadata": {},
   "outputs": [],
   "source": [
    "tif_dir_list = []\n",
    "\n",
    "for dirs, subdirs, files in os.walk(in_tif_dir):\n",
    "    for file in files:\n",
    "        fname = file.split('.')[0]\n",
    "        ext = file.split('.')[-1].lower()\n",
    "        if ext == 'tif':\n",
    "            for band_num in band_reference_list:\n",
    "                if fname.endswith('B{}'.format(band_num)):\n",
    "                    path = os.path.join(dirs, file)\n",
    "                    ds = gdal.Open(path)\n",
    "                    arr = ds.GetRasterBand(1).ReadAsArray()       \n",
    "                    tif_dir_list.append(arr)"
   ]
  },
  {
   "cell_type": "markdown",
   "metadata": {},
   "source": [
    "First open any of the images then stores the geotransform and projection info"
   ]
  },
  {
   "cell_type": "code",
   "execution_count": 8,
   "metadata": {},
   "outputs": [],
   "source": [
    "in_ds = gdal.Open(path)\n",
    "in_gt = in_ds.GetGeoTransform()\n",
    "prj = in_ds.GetProjection()\n",
    "srs = osr.SpatialReference(wkt=prj)"
   ]
  },
  {
   "cell_type": "markdown",
   "metadata": {},
   "source": [
    "Creates an out tif with the info you provided in cell 2 as well as \n",
    "predetermined variables projection and geotransform"
   ]
  },
  {
   "cell_type": "code",
   "execution_count": 9,
   "metadata": {},
   "outputs": [],
   "source": [
    "out_tif = tif_driver.Create(out_tif_path, \n",
    "                            tif_dir_list[0].shape[1],\n",
    "                            tif_dir_list[0].shape[0],\n",
    "                            len(tif_dir_list),\n",
    "                            gdal.GDT_Float64)\n",
    "\n",
    "out_tif.SetProjection(srs.ExportToWkt())\n",
    "out_tif.SetGeoTransform(in_gt);"
   ]
  },
  {
   "cell_type": "markdown",
   "metadata": {},
   "source": [
    "GDAL suxx and starts indexing at 1, instead of good ole 0.\n",
    "\n",
    "So we loop through each stored array in the list and write it as a separate color band"
   ]
  },
  {
   "cell_type": "code",
   "execution_count": 10,
   "metadata": {},
   "outputs": [],
   "source": [
    "i = 1\n",
    "for arr in tif_dir_list:    \n",
    "    out_band = out_tif.GetRasterBand(i)\n",
    "    out_band.WriteArray(arr)\n",
    "    i+=1\n",
    "out_tif.FlushCache()\n",
    "del out_tif"
   ]
  },
  {
   "cell_type": "code",
   "execution_count": null,
   "metadata": {},
   "outputs": [],
   "source": []
  }
 ],
 "metadata": {
  "kernelspec": {
   "display_name": "Python 3",
   "language": "python",
   "name": "python3"
  },
  "language_info": {
   "codemirror_mode": {
    "name": "ipython",
    "version": 3
   },
   "file_extension": ".py",
   "mimetype": "text/x-python",
   "name": "python",
   "nbconvert_exporter": "python",
   "pygments_lexer": "ipython3",
   "version": "3.8.2"
  }
 },
 "nbformat": 4,
 "nbformat_minor": 4
}
