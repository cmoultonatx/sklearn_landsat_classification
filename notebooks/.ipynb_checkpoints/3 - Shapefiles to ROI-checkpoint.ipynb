{
 "cells": [
  {
   "cell_type": "markdown",
   "metadata": {},
   "source": [
    "This script takes a list of input shapefiles corresponding to a land cover classification and \n",
    "outputs a .TIFF training dataset for the accompanying Landsat image. \n",
    "\n",
    "In order to create these training shapefiles, you must first load your Landsat image into a GIS program, such as ArcGIS or QGIS. For these purposes, I have stayed open source and am using QGIS. While I do not currently have step-by-step instructions, ultimately you just need to create separate shapefiles for each individual land class you want to classify your entire image off of. In my case here, I am using three simple classes--water, impervious, and vegetation. Creating polygon shapefiles is quite simple, and all you need to do is make sure whatever polygons you draw contain pixels in the origin Landsat image _entirely of that specific class_ and not of mixed pixel classification values. "
   ]
  },
  {
   "cell_type": "code",
   "execution_count": 1,
   "metadata": {},
   "outputs": [],
   "source": [
    "import geopandas as gpd\n",
    "import gdal, ogr, osr\n",
    "import numpy as np\n",
    "import rasterio\n",
    "from rasterio.mask import mask\n",
    "import matplotlib.pyplot as plt\n",
    "from shapely.geometry import MultiPolygon, Point, Polygon\n",
    "%matplotlib inline"
   ]
  },
  {
   "cell_type": "markdown",
   "metadata": {},
   "source": [
    "Input each shapefile path and add the corresponding geodataframes to a list"
   ]
  },
  {
   "cell_type": "code",
   "execution_count": 2,
   "metadata": {},
   "outputs": [],
   "source": [
    "in_water = r\"../../data/shapefiles/Class Shapefile Attempts/water.shp\"\n",
    "in_impervious = r\"../../data/shapefiles/Class Shapefile Attempts/impervious.shp\"\n",
    "in_veg = r\"../../data/shapefiles/Class Shapefile Attempts/dense_veg.shp\"\n",
    "\n",
    "water_gdf = gpd.read_file(in_water)\n",
    "imp_gdf = gpd.read_file(in_impervious)\n",
    "dv_gdf = gpd.read_file(in_veg)\n",
    "\n",
    "gdf_list = [water_gdf, imp_gdf, dv_gdf]\n",
    "\n",
    "in_tif = r\"../../data/Austin_Landsat_Clip.tif\""
   ]
  },
  {
   "cell_type": "markdown",
   "metadata": {},
   "source": [
    "This loops through each of the shapefiles and extracts the corresponding Landsat \n",
    "pixel values to a same-dimensional dataset"
   ]
  },
  {
   "cell_type": "code",
   "execution_count": 3,
   "metadata": {},
   "outputs": [],
   "source": [
    "out_image_list = []\n",
    "with rasterio.open(in_tif) as src:\n",
    "    prj = src.crs.to_wkt()\n",
    "    for i in range(len(gdf_list)):\n",
    "        gdf = gdf_list[i]\n",
    "        gdf_reproj = gdf.to_crs(prj)\n",
    "        x1, y1, x2, y2 = gdf_reproj.total_bounds\n",
    "        p1 = Point(x1, y1)\n",
    "        p2 = Point(x2, y1)\n",
    "        p3 = (x2, y2)\n",
    "        p4 = (x1, y2)\n",
    "        poly = Polygon([p1, p2, p3, p4])\n",
    "        shapes = [MultiPolygon(gdf_reproj['geometry'].values)]\n",
    "        out_image, out_transform = rasterio.mask.mask(src, shapes, crop=False)\n",
    "        out_image[out_image != 0] = i+1\n",
    "        out_image_list.append(out_image[1,:,:])\n",
    "    out_meta = src.meta\n",
    "    \n",
    "arr = np.zeros((out_image_list[0].shape[0], out_image_list[1].shape[1]))\n",
    "arr.shape\n",
    "for out in out_image_list:\n",
    "    id_int = int(out.max())\n",
    "    arr[out == out.max()] = id_int"
   ]
  },
  {
   "cell_type": "markdown",
   "metadata": {},
   "source": [
    "Changes the shape of the output arrays for Geotiff creation via Rasterio"
   ]
  },
  {
   "cell_type": "code",
   "execution_count": 4,
   "metadata": {},
   "outputs": [],
   "source": [
    "out_write_img = arr.reshape(1, arr.shape[0], arr.shape[1])\n",
    "out_write_img\n",
    "out_meta.update({'count':1})\n",
    "\n",
    "\n",
    "out_meta.update({\"driver\":\"GTiff\",\n",
    "                \"height\": out_image.shape[1],\n",
    "                 \"width\":out_image.shape[2],\n",
    "                \"transform\": out_transform})\n",
    "with rasterio.open(r\"../../data/Austin_Training_Classes.tif\", \"w\", **out_meta) as dest:\n",
    "    dest.write(out_write_img)"
   ]
  },
  {
   "cell_type": "code",
   "execution_count": null,
   "metadata": {},
   "outputs": [],
   "source": []
  },
  {
   "cell_type": "code",
   "execution_count": null,
   "metadata": {},
   "outputs": [],
   "source": []
  }
 ],
 "metadata": {
  "kernelspec": {
   "display_name": "Python 3",
   "language": "python",
   "name": "python3"
  },
  "language_info": {
   "codemirror_mode": {
    "name": "ipython",
    "version": 3
   },
   "file_extension": ".py",
   "mimetype": "text/x-python",
   "name": "python",
   "nbconvert_exporter": "python",
   "pygments_lexer": "ipython3",
   "version": "3.8.2"
  }
 },
 "nbformat": 4,
 "nbformat_minor": 4
}
