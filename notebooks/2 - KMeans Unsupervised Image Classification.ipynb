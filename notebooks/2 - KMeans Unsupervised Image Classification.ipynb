{
 "cells": [
  {
   "cell_type": "markdown",
   "metadata": {},
   "source": [
    "This script performs an unsupervised image classification of the results from our merge (and optionally clip) script.\n",
    "\n",
    "The only new imports here would be scikit-learn, where we are using the KMeans clustering algorithm to classify pixels\n",
    "by their spectral signature. "
   ]
  },
  {
   "cell_type": "code",
   "execution_count": 1,
   "metadata": {},
   "outputs": [],
   "source": [
    "from osgeo import gdal, osr\n",
    "from sklearn.cluster import KMeans\n",
    "import numpy as np\n",
    "import matplotlib.pyplot as plt\n",
    "%matplotlib inline"
   ]
  },
  {
   "cell_type": "markdown",
   "metadata": {},
   "source": [
    "Again, change the in_tif variable to the output path of the previous scripts. This can be either the \n",
    "clipped or the entire image."
   ]
  },
  {
   "cell_type": "code",
   "execution_count": 2,
   "metadata": {},
   "outputs": [],
   "source": [
    "in_tif = r\"..\\..\\data\\Austin_Landsat_Clip.tif\"\n",
    "in_ds = gdal.Open(in_tif)\n",
    "arr_list = []\n",
    "\n",
    "#Adds each band as an array\n",
    "#I'm sure there's a more efficient way to get a GDAL raster as an n-dimensional array tho...\n",
    "for i in range(1, in_ds.RasterCount +1):\n",
    "    band = in_ds.GetRasterBand(i)\n",
    "    arr = band.ReadAsArray()\n",
    "    arr_list.append(arr)\n",
    "in_data = np.dstack(np.array(arr_list)).T"
   ]
  },
  {
   "cell_type": "markdown",
   "metadata": {},
   "source": [
    "This cell reshapes the n-dimensional array to 2-dimensions\n",
    "TODO: Deal with the masked areas around the edges"
   ]
  },
  {
   "cell_type": "code",
   "execution_count": 3,
   "metadata": {},
   "outputs": [
    {
     "data": {
      "text/plain": [
       "(5717556, 4)"
      ]
     },
     "execution_count": 3,
     "metadata": {},
     "output_type": "execute_result"
    }
   ],
   "source": [
    "samples = in_data.reshape((in_data.shape[0],-1)).T\n",
    "y = np.ones(samples.shape)\n",
    "samples.shape"
   ]
  },
  {
   "cell_type": "markdown",
   "metadata": {},
   "source": [
    "This cell sets up the KMeans classifier with n_clusters, eg spectral signature classifications. \n",
    "This will take a little while to run..."
   ]
  },
  {
   "cell_type": "code",
   "execution_count": null,
   "metadata": {},
   "outputs": [],
   "source": [
    "kmeans = KMeans(n_clusters=8).fit_predict(samples)"
   ]
  },
  {
   "cell_type": "markdown",
   "metadata": {},
   "source": [
    "This cell creates a new labels array from the output predictions and then\n",
    "reshapes to the original dimensions of the dataset"
   ]
  },
  {
   "cell_type": "code",
   "execution_count": null,
   "metadata": {},
   "outputs": [],
   "source": [
    "labels= kmeans.reshape(in_data.shape[1], in_data.shape[2])"
   ]
  },
  {
   "cell_type": "markdown",
   "metadata": {},
   "source": [
    "Let's take a look at the results, shall we?"
   ]
  },
  {
   "cell_type": "code",
   "execution_count": null,
   "metadata": {},
   "outputs": [],
   "source": [
    "plt.figure(figsize=(20,20))\n",
    "plt.imshow(np.stack(labels).T)"
   ]
  },
  {
   "cell_type": "markdown",
   "metadata": {},
   "source": [
    "Once again, change the 'out_tif' variable to whatever name you want to save this output raster to"
   ]
  },
  {
   "cell_type": "code",
   "execution_count": null,
   "metadata": {},
   "outputs": [],
   "source": [
    "out_tif = r\"..\\..\\data\\Austin_4_Class.tif\"\n",
    "tif_driver = gdal.GetDriverByName(\"GTiff\")\n",
    "in_gt = in_ds.GetGeoTransform()\n",
    "in_prj = in_ds.GetProjection()\n",
    "in_srs = osr.SpatialReference(wkt=in_prj)"
   ]
  },
  {
   "cell_type": "code",
   "execution_count": null,
   "metadata": {},
   "outputs": [],
   "source": [
    "out_tif = tif_driver.Create(out_tif, \n",
    "                            arr_list[0].shape[1],\n",
    "                            arr_list[0].shape[0],\n",
    "                            1,\n",
    "                            gdal.GDT_Float64)\n",
    "\n",
    "out_tif.SetProjection(in_srs.ExportToWkt())\n",
    "out_tif.SetGeoTransform(in_gt)\n",
    "out_band = out_tif.GetRasterBand(1)\n",
    "out_band.WriteArray(labels.T)\n",
    "out_tif.FlushCache()"
   ]
  },
  {
   "cell_type": "code",
   "execution_count": null,
   "metadata": {},
   "outputs": [],
   "source": []
  }
 ],
 "metadata": {
  "kernelspec": {
   "display_name": "Python 3",
   "language": "python",
   "name": "python3"
  },
  "language_info": {
   "codemirror_mode": {
    "name": "ipython",
    "version": 3
   },
   "file_extension": ".py",
   "mimetype": "text/x-python",
   "name": "python",
   "nbconvert_exporter": "python",
   "pygments_lexer": "ipython3",
   "version": "3.8.2"
  }
 },
 "nbformat": 4,
 "nbformat_minor": 4
}
